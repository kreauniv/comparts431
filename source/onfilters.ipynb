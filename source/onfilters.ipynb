{
 "cells": [
  {
   "cell_type": "code",
   "execution_count": 6,
   "id": "f56bdf86-1cfc-473b-923c-47d58ba76e98",
   "metadata": {},
   "outputs": [],
   "source": [
    "using DSP, FFTW, Plots"
   ]
  },
  {
   "cell_type": "code",
   "execution_count": 7,
   "id": "ac66dd44-de6e-4cb9-8b3d-f2155726c240",
   "metadata": {},
   "outputs": [
    {
     "data": {
      "text/plain": [
       "0.0:0.00048828125:0.99951171875"
      ]
     },
     "execution_count": 7,
     "metadata": {},
     "output_type": "execute_result"
    }
   ],
   "source": [
    "t = (0:2047) ./ 2048"
   ]
  },
  {
   "cell_type": "code",
   "execution_count": 34,
   "id": "919c03f9-9b0a-4856-a960-dc527a4e1fe1",
   "metadata": {},
   "outputs": [
    {
     "data": {
      "text/plain": [
       "8-element Vector{Float64}:\n",
       "  2.0\n",
       "  7.0\n",
       " 12.0\n",
       "  9.0\n",
       "  1.1102230246251565e-16\n",
       "  0.0\n",
       "  0.0\n",
       "  0.0"
      ]
     },
     "execution_count": 34,
     "metadata": {},
     "output_type": "execute_result"
    }
   ],
   "source": [
    "a = [1,2,3,0,0,0,0,0]\n",
    "b = [2,3,0,0,0,0,0,0]\n",
    "af = fft(a)\n",
    "bf = fft(b)\n",
    "abf = af .* bf\n",
    "ab = real(ifft(abf))"
   ]
  },
  {
   "cell_type": "code",
   "execution_count": 35,
   "id": "6dea5b86-9ea6-4762-bb8a-5594cd1d8f02",
   "metadata": {},
   "outputs": [
    {
     "data": {
      "text/plain": [
       "2829"
      ]
     },
     "execution_count": 35,
     "metadata": {},
     "output_type": "execute_result"
    }
   ],
   "source": [
    "123 * 23"
   ]
  },
  {
   "cell_type": "code",
   "execution_count": 36,
   "id": "572fe6d4-9fcd-4886-83e3-25a82d01fb96",
   "metadata": {},
   "outputs": [
    {
     "data": {
      "text/plain": [
       "4-element Vector{Int64}:\n",
       "  2\n",
       "  7\n",
       " 12\n",
       "  9"
      ]
     },
     "execution_count": 36,
     "metadata": {},
     "output_type": "execute_result"
    }
   ],
   "source": [
    "conv([1,2,3],[2,3])"
   ]
  },
  {
   "cell_type": "code",
   "execution_count": null,
   "id": "dadba85f-951e-4898-87ea-4047aa7cd569",
   "metadata": {},
   "outputs": [],
   "source": []
  }
 ],
 "metadata": {
  "kernelspec": {
   "display_name": "Julia 1.10.1",
   "language": "julia",
   "name": "julia-1.10"
  },
  "language_info": {
   "file_extension": ".jl",
   "mimetype": "application/julia",
   "name": "julia",
   "version": "1.10.1"
  }
 },
 "nbformat": 4,
 "nbformat_minor": 5
}
